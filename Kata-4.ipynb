{
 "cells": [
  {
   "cell_type": "markdown",
   "metadata": {},
   "source": [
    "#Ejercicio-1: Transformar cadenas"
   ]
  },
  {
   "cell_type": "code",
   "execution_count": null,
   "metadata": {},
   "outputs": [],
   "source": [
    "text =\"\"\"Interesting facts about the Moon. The Moon is Earth's only satellite. There are several interesting facts about the Moon and how it affects life here on Earth.\n",
    "On average, the Moon moves 4cm away from the Earth every year. This yearly drift is not significant enough to cause immediate effects on Earth. The highest daylight temperature of the Moon is 127 C.\"\"\"\n",
    "\n",
    "#Dividir cadenas\n",
    "texto_p = text.split('.')\n",
    "print(texto_p)\n",
    "\n",
    "#Definir palabras pista: average, temperature y distance\n",
    "palclave = [\"average\",\"temperature\",\"distance\"]\n",
    "\n",
    "#ciclo para imprimir datos relacinados con palabras clave\n",
    "for oracion in texto_p:\n",
    "    for palabra in palclave:\n",
    "        if palabra in oracion:\n",
    "            print(\"Oraciones que contienen las palabras clave: \"+oracion)\n",
    "            break\n"
   ]
  },
  {
   "cell_type": "markdown",
   "metadata": {},
   "source": [
    "#Ejercicio-2: Formateando cadenas"
   ]
  },
  {
   "cell_type": "code",
   "execution_count": null,
   "metadata": {},
   "outputs": [],
   "source": [
    "#Datos a usar\n",
    "name = 'Ganímides'\n",
    "gravity = 0.00143 # in kms\n",
    "planet = \"Marte\"\n",
    "\n",
    "#crear título\n",
    "titulo= f'Datos de la gravedad en {name}'\n",
    "\n",
    "#Crear plantilla\n",
    "datos=f\"\"\"{'-'*90}\n",
    "Nombre del planeta: {planet}\n",
    "La gravedad en {planet}: {gravity * 1000} m/s2 \n",
    "\"\"\"\n",
    "\n",
    "#unir las cadenas\n",
    "cadena = f\"\"\"{titulo.title()}\n",
    "{datos}\n",
    "\"\"\"\n",
    "print(cadena)\n"
   ]
  }
 ],
 "metadata": {
  "interpreter": {
   "hash": "846770b926f3a2b2712834d6fd95498f128ed5431e52ce1500319edbc4bb466c"
  },
  "kernelspec": {
   "display_name": "Python 3.10.2 64-bit",
   "language": "python",
   "name": "python3"
  },
  "language_info": {
   "codemirror_mode": {
    "name": "ipython",
    "version": 3
   },
   "file_extension": ".py",
   "mimetype": "text/x-python",
   "name": "python",
   "nbconvert_exporter": "python",
   "pygments_lexer": "ipython3",
   "version": "3.10.2"
  },
  "orig_nbformat": 4
 },
 "nbformat": 4,
 "nbformat_minor": 2
}
