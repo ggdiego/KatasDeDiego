{
 "cells": [
  {
   "cell_type": "markdown",
   "metadata": {},
   "source": [
    "#Ejercicio 1: Usar operadores aritmeticos."
   ]
  },
  {
   "cell_type": "code",
   "execution_count": null,
   "metadata": {},
   "outputs": [],
   "source": [
    "#crear variables\n",
    "dis_tierra = 149597870 #en-km\n",
    "dis_jupiter = 778547200 #en-km\n",
    "\n",
    "#calcular la distancia entre planetas en km y pasarla a millas\n",
    "dis_total_km= round(abs((dis_tierra - dis_jupiter) * 0.621))\n",
    "dis_total_mll= round(abs(dis_tierra - dis_jupiter))\n",
    "print(dis_total_km)\n",
    "print(dis_total_mll)\n"
   ]
  },
  {
   "cell_type": "markdown",
   "metadata": {},
   "source": [
    "#Ejercicio 2: Convierta cadenas en números y usa valores absolutos"
   ]
  },
  {
   "cell_type": "code",
   "execution_count": null,
   "metadata": {},
   "outputs": [],
   "source": [
    "dist_1= int(input(\"Ingresa la distancia del sol al planeta 1: \"))\n",
    "dist_2= int(input(\"Ingresa la distancia del sol al planeta 2: \"))\n",
    "\n",
    "#Calcular y determinar el valor absoluto\n",
    "dist_km=abs(dist_1 - dist_2)\n",
    "dist_mll=abs(((dist_1 - dist_2)*0.621))\n",
    "print(dist_km)\n",
    "print(dist_mll)"
   ]
  }
 ],
 "metadata": {
  "interpreter": {
   "hash": "846770b926f3a2b2712834d6fd95498f128ed5431e52ce1500319edbc4bb466c"
  },
  "kernelspec": {
   "display_name": "Python 3.10.2 64-bit",
   "language": "python",
   "name": "python3"
  },
  "language_info": {
   "codemirror_mode": {
    "name": "ipython",
    "version": 3
   },
   "file_extension": ".py",
   "mimetype": "text/x-python",
   "name": "python",
   "nbconvert_exporter": "python",
   "pygments_lexer": "ipython3",
   "version": "3.10.2"
  },
  "orig_nbformat": 4
 },
 "nbformat": 4,
 "nbformat_minor": 2
}
