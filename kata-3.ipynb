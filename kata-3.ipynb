{
 "cells": [
  {
   "cell_type": "code",
   "execution_count": 3,
   "metadata": {},
   "outputs": [
    {
     "name": "stdout",
     "output_type": "stream",
     "text": [
      "Advertencia: Un asteroide se acerca a la Tierra demasiado rápido.\n"
     ]
    }
   ],
   "source": [
    "velocidad = 49\n",
    "if velocidad > 25:\n",
    "    print(\"Advertencia: Un asteroide se acerca a la Tierra.\")\n",
    "else:\n",
    "    print(\"No hay peligro\")"
   ]
  },
  {
   "cell_type": "code",
   "execution_count": 10,
   "metadata": {},
   "outputs": [
    {
     "name": "stdout",
     "output_type": "stream",
     "text": [
      "No hay nada que ver en el cielo\n"
     ]
    }
   ],
   "source": [
    "vel_ast=19\n",
    "if vel_ast > 20:\n",
    "    print(\"Puedes salir a ver una luz en el cielo producida por un asteroide\")\n",
    "elif vel_ast == 20:\n",
    "    print(\"Puedes salir a ver una luz en el cielo producida por un asteroide\")   \n",
    "else :\n",
    "     print(\"No hay nada que ver en el cielo\")\n",
    "    \n"
   ]
  },
  {
   "cell_type": "code",
   "execution_count": 36,
   "metadata": {},
   "outputs": [
    {
     "name": "stdout",
     "output_type": "stream",
     "text": [
      "No hay nada que ver en el cielo\n"
     ]
    }
   ],
   "source": [
    "vel_ast=19\n",
    "tam_ast=25\n",
    "if vel_ast >= 25 and tam_ast > 25:\n",
    "    print(\"Advertencia: Un asteroide se acerca a la Tierra. Puedes salir a ver una luz en el cielo.\") \n",
    "    if tam_ast > 25 and tam_ast < 1000:\n",
    "        print(\"El asteroide causará mucho daño\")\n",
    "    else:\n",
    "        print(\"El asteroide se quemará a medida que entre a la atmosfera, no hay peligro\")\n",
    "elif vel_ast >= 20:\n",
    "    print(\"Puedes salir a ver una luz en el cielo producida por un asteroide\")\n",
    "    if tam_ast > 25 and tam_ast < 1000:\n",
    "        print(\"Peligro: El asteroide causará mucho daño\")\n",
    "    else:\n",
    "        print(\"El asteroide se quemará a medida que entre a la atmosfera, no hay peligro\")\n",
    "elif tam_ast > 25 and tam_ast < 1000:\n",
    "    print(\"Peligro: Un asteroide causará mucho daño\")\n",
    "    if vel_ast >= 20:\n",
    "       print(\"Se acerca muy rápido a la Tierra. Puedes salir a ver una luz en el cielo.\") \n",
    "else:\n",
    "    print(\"No hay nada que ver en el cielo\")\n"
   ]
  }
 ],
 "metadata": {
  "interpreter": {
   "hash": "846770b926f3a2b2712834d6fd95498f128ed5431e52ce1500319edbc4bb466c"
  },
  "kernelspec": {
   "display_name": "Python 3.10.2 64-bit",
   "language": "python",
   "name": "python3"
  },
  "language_info": {
   "codemirror_mode": {
    "name": "ipython",
    "version": 3
   },
   "file_extension": ".py",
   "mimetype": "text/x-python",
   "name": "python",
   "nbconvert_exporter": "python",
   "pygments_lexer": "ipython3",
   "version": "3.10.2"
  },
  "orig_nbformat": 4
 },
 "nbformat": 4,
 "nbformat_minor": 2
}
